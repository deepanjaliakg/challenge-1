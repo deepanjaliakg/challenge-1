{
 "cells": [
  {
   "cell_type": "code",
   "execution_count": 1,
   "id": "41785133",
   "metadata": {},
   "outputs": [],
   "source": [
    "s=\"this is My First programming class and i am learNING python string and its function\""
   ]
  },
  {
   "cell_type": "code",
   "execution_count": 2,
   "id": "2d69a2e4",
   "metadata": {},
   "outputs": [
    {
     "data": {
      "text/plain": [
       "'h   r oai a d  aI tntna sutn'"
      ]
     },
     "execution_count": 2,
     "metadata": {},
     "output_type": "execute_result"
    }
   ],
   "source": [
    "s[1:300:3]"
   ]
  },
  {
   "cell_type": "code",
   "execution_count": 4,
   "id": "781a4240",
   "metadata": {},
   "outputs": [
    {
     "data": {
      "text/plain": [
       "'noitcnuf sti dna gnirts nohtyp GNINrael ma i dna ssalc gnimmargorp tsriF yM si siht'"
      ]
     },
     "execution_count": 4,
     "metadata": {},
     "output_type": "execute_result"
    }
   ],
   "source": [
    "s[-1::-1]"
   ]
  },
  {
   "cell_type": "code",
   "execution_count": 8,
   "id": "4954f562",
   "metadata": {},
   "outputs": [
    {
     "data": {
      "text/plain": [
       "'THIS IS MY FIRST PROGRAMMING CLASS AND I AM LEARNING PYTHON STRING AND ITS FUNCTION'"
      ]
     },
     "execution_count": 8,
     "metadata": {},
     "output_type": "execute_result"
    }
   ],
   "source": [
    "s.upper()"
   ]
  },
  {
   "cell_type": "code",
   "execution_count": 9,
   "id": "59784691",
   "metadata": {},
   "outputs": [],
   "source": [
    "b=s.upper()"
   ]
  },
  {
   "cell_type": "code",
   "execution_count": 10,
   "id": "0a07bf5d",
   "metadata": {},
   "outputs": [
    {
     "data": {
      "text/plain": [
       "'THIS IS MY FIRST PROGRAMMING CLASS AND I AM LEARNING PYTHON STRING AND ITS FUNCTION'"
      ]
     },
     "execution_count": 10,
     "metadata": {},
     "output_type": "execute_result"
    }
   ],
   "source": [
    "b"
   ]
  },
  {
   "cell_type": "code",
   "execution_count": 14,
   "id": "ff1c98ae",
   "metadata": {},
   "outputs": [
    {
     "data": {
      "text/plain": [
       "['THIS',\n",
       " 'IS',\n",
       " 'MY',\n",
       " 'FIRST',\n",
       " 'PROGRAMMING',\n",
       " 'CLASS',\n",
       " 'AND',\n",
       " 'I',\n",
       " 'AM',\n",
       " 'LEARNING',\n",
       " 'PYTHON',\n",
       " 'STRING',\n",
       " 'AND',\n",
       " 'ITS',\n",
       " 'FUNCTION']"
      ]
     },
     "execution_count": 14,
     "metadata": {},
     "output_type": "execute_result"
    }
   ],
   "source": [
    "b.split(' ')"
   ]
  },
  {
   "cell_type": "code",
   "execution_count": 15,
   "id": "1fe7d71b",
   "metadata": {},
   "outputs": [
    {
     "data": {
      "text/plain": [
       "'this is my first programming class and i am learning python string and its function'"
      ]
     },
     "execution_count": 15,
     "metadata": {},
     "output_type": "execute_result"
    }
   ],
   "source": [
    "s.lower()"
   ]
  },
  {
   "cell_type": "code",
   "execution_count": 16,
   "id": "95bcf2e3",
   "metadata": {},
   "outputs": [
    {
     "data": {
      "text/plain": [
       "'This is my first programming class and i am learning python string and its function'"
      ]
     },
     "execution_count": 16,
     "metadata": {},
     "output_type": "execute_result"
    }
   ],
   "source": [
    "s.capitalize()"
   ]
  },
  {
   "cell_type": "code",
   "execution_count": 26,
   "id": "343cc43c",
   "metadata": {},
   "outputs": [],
   "source": [
    "# isalphanum(s) is true if the string contains an integer or an aphabet.\n",
    "# isalpha(s) is true  if the string contains alphabets only."
   ]
  },
  {
   "cell_type": "code",
   "execution_count": 13,
   "id": "34fa911f",
   "metadata": {},
   "outputs": [],
   "source": [
    "s=\"ffd\\fgr\\frtg\""
   ]
  },
  {
   "cell_type": "code",
   "execution_count": 17,
   "id": "a294bf62",
   "metadata": {},
   "outputs": [
    {
     "data": {
      "text/plain": [
       "'ffd\\x0cgr\\x0crtg'"
      ]
     },
     "execution_count": 17,
     "metadata": {},
     "output_type": "execute_result"
    }
   ],
   "source": [
    "s.expandtabs() #(doubt)"
   ]
  },
  {
   "cell_type": "code",
   "execution_count": 24,
   "id": "ed4f2a62",
   "metadata": {},
   "outputs": [],
   "source": [
    "h=\"  sggg dfgdd   \""
   ]
  },
  {
   "cell_type": "code",
   "execution_count": 25,
   "id": "818f4830",
   "metadata": {},
   "outputs": [
    {
     "data": {
      "text/plain": [
       "'sggg dfgdd'"
      ]
     },
     "execution_count": 25,
     "metadata": {},
     "output_type": "execute_result"
    }
   ],
   "source": [
    "h.strip()"
   ]
  },
  {
   "cell_type": "code",
   "execution_count": 26,
   "id": "0d39373c",
   "metadata": {},
   "outputs": [
    {
     "data": {
      "text/plain": [
       "'sggg dfgdd   '"
      ]
     },
     "execution_count": 26,
     "metadata": {},
     "output_type": "execute_result"
    }
   ],
   "source": [
    "h.lstrip()"
   ]
  },
  {
   "cell_type": "code",
   "execution_count": 27,
   "id": "7b970d31",
   "metadata": {},
   "outputs": [
    {
     "data": {
      "text/plain": [
       "'  sggg dfgdd'"
      ]
     },
     "execution_count": 27,
     "metadata": {},
     "output_type": "execute_result"
    }
   ],
   "source": [
    "h.rstrip()"
   ]
  },
  {
   "cell_type": "code",
   "execution_count": 28,
   "id": "b2475fad",
   "metadata": {},
   "outputs": [],
   "source": [
    "s=\"deepanjali\""
   ]
  },
  {
   "cell_type": "code",
   "execution_count": 32,
   "id": "481d51fb",
   "metadata": {},
   "outputs": [
    {
     "data": {
      "text/plain": [
       "'anilkumar'"
      ]
     },
     "execution_count": 32,
     "metadata": {},
     "output_type": "execute_result"
    }
   ],
   "source": [
    "s.replace(\"deepanjali\",\"anilkumar\")"
   ]
  },
  {
   "cell_type": "code",
   "execution_count": 34,
   "id": "8f41a8f3",
   "metadata": {},
   "outputs": [],
   "source": [
    "#In string center we can give length and fillcharactor.\n",
    "#this function put the string in the middle and fill the remaining space with the given charactor."
   ]
  },
  {
   "cell_type": "code",
   "execution_count": 37,
   "id": "4ee24fa5",
   "metadata": {},
   "outputs": [
    {
     "data": {
      "text/plain": [
       "'77777777777777777777anilkumar777777777777777777777'"
      ]
     },
     "execution_count": 37,
     "metadata": {},
     "output_type": "execute_result"
    }
   ],
   "source": [
    "s.center(50,'7')"
   ]
  },
  {
   "cell_type": "code",
   "execution_count": 40,
   "id": "1d866d8d",
   "metadata": {},
   "outputs": [],
   "source": [
    "#compiler and interpretor are executing the code.\n",
    "#interpretor trsanslates one statement at a time.\n",
    "#compiler scans the entire programme and translate full programme."
   ]
  },
  {
   "cell_type": "code",
   "execution_count": null,
   "id": "4fd696d8",
   "metadata": {},
   "outputs": [],
   "source": [
    "dd"
   ]
  },
  {
   "cell_type": "code",
   "execution_count": 39,
   "id": "b5f9b6d3",
   "metadata": {},
   "outputs": [],
   "source": [
    "#software developpment\n",
    "#data science\n",
    "#scientific programming\n",
    "#game development\n",
    "#data mining ,     because it is easy to use."
   ]
  },
  {
   "cell_type": "code",
   "execution_count": null,
   "id": "67b45731",
   "metadata": {},
   "outputs": [],
   "source": []
  }
 ],
 "metadata": {
  "kernelspec": {
   "display_name": "Python 3 (ipykernel)",
   "language": "python",
   "name": "python3"
  },
  "language_info": {
   "codemirror_mode": {
    "name": "ipython",
    "version": 3
   },
   "file_extension": ".py",
   "mimetype": "text/x-python",
   "name": "python",
   "nbconvert_exporter": "python",
   "pygments_lexer": "ipython3",
   "version": "3.9.12"
  }
 },
 "nbformat": 4,
 "nbformat_minor": 5
}
